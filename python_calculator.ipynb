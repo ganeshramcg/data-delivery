{
 "cells": [
  {
   "cell_type": "code",
   "execution_count": 1,
   "id": "0971e538-7980-40d9-a704-5333972b96a8",
   "metadata": {
    "tags": []
   },
   "outputs": [
    {
     "name": "stdout",
     "output_type": "stream",
     "text": [
      "This is python program for calculator\n"
     ]
    }
   ],
   "source": [
    "print(\"This is python program for calculator\")"
   ]
  },
  {
   "cell_type": "code",
   "execution_count": null,
   "id": "f00990e7-a6bc-404d-975d-70ad2bfc74d3",
   "metadata": {},
   "outputs": [],
   "source": []
  }
 ],
 "metadata": {
  "kernelspec": {
   "display_name": "Python 3 (ipykernel)",
   "language": "python",
   "name": "python3"
  },
  "language_info": {
   "codemirror_mode": {
    "name": "ipython",
    "version": 3
   },
   "file_extension": ".py",
   "mimetype": "text/x-python",
   "name": "python",
   "nbconvert_exporter": "python",
   "pygments_lexer": "ipython3",
   "version": "3.11.1"
  }
 },
 "nbformat": 4,
 "nbformat_minor": 5
}
